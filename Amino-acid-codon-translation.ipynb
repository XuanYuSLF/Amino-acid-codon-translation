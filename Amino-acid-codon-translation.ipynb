{
 "cells": [
  {
   "attachments": {},
   "cell_type": "markdown",
   "metadata": {},
   "source": [
    "## 标题：将mRNA上的碱基处理为氨基酸\n",
    "1. 算法思路：通过获取字符串切片位置，来判断**起始密码子**和**终止密码子**的位置，从而获得**切片起始位**以及**切片数量**，以此输出结果"
   ]
  },
  {
   "attachments": {},
   "cell_type": "markdown",
   "metadata": {},
   "source": [
    "1. 预处理"
   ]
  },
  {
   "cell_type": "code",
   "execution_count": null,
   "metadata": {},
   "outputs": [],
   "source": [
    "# 无"
   ]
  },
  {
   "attachments": {},
   "cell_type": "markdown",
   "metadata": {},
   "source": [
    "2. 字典初始化"
   ]
  },
  {
   "cell_type": "code",
   "execution_count": null,
   "metadata": {},
   "outputs": [],
   "source": [
    "key_codon_dict = {'UUU': '苯丙氨酸', 'UUC': '苯丙氨酸', 'UUA': '亮氨酸', 'UUG': '亮氨酸',\n",
    "                   'UCU': '丝氨酸', 'UCC': '丝氨酸', 'UCA': '丝氨酸', 'UCG': '丝氨酸',\n",
    "                   'UAU': '苏氨酸', 'UAC': '苏氨酸', 'UAA': '终止密码子', 'UAG': '终止密码子',\n",
    "                   'UGU': '半胱氨酸', 'UGC': '半胱氨酸', 'UGA': '终止密码子', 'UGG': '色氨酸',\n",
    "                   'CUU': '亮氨酸', 'CUC': '亮氨酸', 'CUA': '亮氨酸', 'CUG': '亮氨酸',\n",
    "                   'CCU': '脯氨酸', 'CCC': '脯氨酸', 'CCA': '脯氨酸', 'CCG': '脯氨酸',\n",
    "                   'CAU': '组氨酸', 'CAC': '组氨酸', 'CAA': '甘氨酸', 'CAG': '甘氨酸',\n",
    "                   'CGU': '精氨酸', 'CGC': '精氨酸', 'CGA': '精氨酸', 'CGG': '精氨酸',\n",
    "                   'AUU': '异亮氨酸', 'AUC': '异亮氨酸', 'AUA': '异亮氨酸', 'AUG': '甲硫氨酸(起始密码子)',\n",
    "                   'ACU': '苏氨酸', 'ACC': '苏氨酸', 'ACA': '苏氨酸', 'ACG': '苏氨酸',\n",
    "                   'AAU': '天冬酰胺', 'AAC': '天冬酰胺', 'AAA': '赖氨酸', 'AAG': '赖氨酸',\n",
    "                   'AGU': '丝氨酸', 'AGC': '丝氨酸', 'AGA': '精氨酸', 'AGG': '精氨酸',\n",
    "                   'GUU': '缬氨酸', 'GUC': '缬氨酸', 'GUA': '缬氨酸', 'GUG': '缬氨酸(起始密码子)',\n",
    "                   'GCU': '丙氨酸', 'GCC': '丙氨酸', 'GCA': '丙氨酸', 'GCG': '丙氨酸',\n",
    "                   'GAU': '天冬酰胺', 'GAC': '天冬酰胺', 'GAA': '谷氨酸', 'GAG': '谷氨酸',\n",
    "                   'GGU': '甘氨酸', 'GGC': '甘氨酸', 'GGA': '甘氨酸', 'GGG': '甘氨酸'}"
   ]
  },
  {
   "attachments": {},
   "cell_type": "markdown",
   "metadata": {},
   "source": [
    "3. 预处理"
   ]
  },
  {
   "cell_type": "code",
   "execution_count": null,
   "metadata": {},
   "outputs": [],
   "source": [
    "# 用户输入区域\n",
    "base = input(\"请输入mRNA上的碱基:\")\n",
    "\n",
    "# 获取字符串总长，并未循环次数做准备\n",
    "base_length = len(base) // 3"
   ]
  },
  {
   "attachments": {},
   "cell_type": "markdown",
   "metadata": {},
   "source": [
    "4. 获取字符串切片起始数"
   ]
  },
  {
   "cell_type": "code",
   "execution_count": null,
   "metadata": {},
   "outputs": [],
   "source": [
    "bool_key_start = False\n",
    "cycles_counts = 0\n",
    "start_step = 0\n",
    "step = 0\n",
    "\n",
    "# 获取字符串切片起始数\n",
    "for i in range(base_length):\n",
    "    cycles_counts += 1\n",
    "    \n",
    "    # 以字符串中3个元素为一组进行截取\n",
    "    pre_base = base[(0 + step): (3 + step)]\n",
    "    \n",
    "\n",
    "    compare_base = key_codon_dict[pre_base]\n",
    "    \n",
    "    if compare_base == key_codon_dict[\"AUG\"] :\n",
    "        start_step = step\n",
    "        bool_key_start = True\n",
    "        break\n",
    "    elif compare_base == key_codon_dict[\"GUG\"] :\n",
    "        start_step = step\n",
    "        bool_key_start = True\n",
    "        break\n",
    "    else:\n",
    "        step += 3\n",
    "        \n",
    "# 判断mRNA链中是否有起始密码子\n",
    "if bool_key_start == False:\n",
    "    print(\"该氨基酸链可能无法形成\")\n",
    "    quit()"
   ]
  },
  {
   "attachments": {},
   "cell_type": "markdown",
   "metadata": {},
   "source": [
    "5. 获取字符串切片末尾数"
   ]
  },
  {
   "cell_type": "code",
   "execution_count": null,
   "metadata": {},
   "outputs": [],
   "source": [
    "bool_key_end = False\n",
    "\n",
    "# 获取字符串切片末尾数\n",
    "end_step = 0\n",
    "for i in range((base_length - cycles_counts)):\n",
    "    \n",
    "    # 以字符串中3个元素为一组进行截取\n",
    "    pre_base = base[(0 + step): (3 + step)]\n",
    "    \n",
    "    \n",
    "    compare_base = key_codon_dict[pre_base]\n",
    "    \n",
    "    if compare_base == key_codon_dict[\"UAA\"] :\n",
    "        end_step = step\n",
    "        bool_key_end = True\n",
    "        break\n",
    "    elif compare_base == key_codon_dict[\"UAG\"] :\n",
    "        end_step = step\n",
    "        break\n",
    "    elif compare_base == key_codon_dict[\"UGA\"] :\n",
    "        end_step = step\n",
    "        bool_key_end = True\n",
    "        break\n",
    "    else:\n",
    "        step += 3\n",
    "        end_step = step\n",
    "        \n",
    "# 判断密码子中是否有密码子        \n",
    "if bool_key_end == False:\n",
    "    print(\"该密码子中不含终止密码子\")"
   ]
  },
  {
   "attachments": {},
   "cell_type": "markdown",
   "metadata": {},
   "source": [
    "6. 输出结果"
   ]
  },
  {
   "cell_type": "code",
   "execution_count": null,
   "metadata": {},
   "outputs": [],
   "source": [
    "# 最终处理\n",
    "final_end_step = end_step + 3\n",
    "final_cycles_counts = (final_end_step - start_step) // 3\n",
    "step_ = 0\n",
    "\n",
    "for i in range(final_cycles_counts):\n",
    "    \n",
    "    pre_base = base[(start_step + step_): ((start_step + 3) + step_)]\n",
    "    step_ += 3\n",
    "    print (key_codon_dict[pre_base], end=\" \")"
   ]
  },
  {
   "attachments": {},
   "cell_type": "markdown",
   "metadata": {},
   "source": [
    "# 完整代码"
   ]
  },
  {
   "cell_type": "code",
   "execution_count": null,
   "metadata": {},
   "outputs": [],
   "source": [
    "key_codon_dict = {'UUU': '苯丙氨酸', 'UUC': '苯丙氨酸', 'UUA': '亮氨酸', 'UUG': '亮氨酸',\n",
    "                   'UCU': '丝氨酸', 'UCC': '丝氨酸', 'UCA': '丝氨酸', 'UCG': '丝氨酸',\n",
    "                   'UAU': '苏氨酸', 'UAC': '苏氨酸', 'UAA': '终止密码子', 'UAG': '终止密码子',\n",
    "                   'UGU': '半胱氨酸', 'UGC': '半胱氨酸', 'UGA': '终止密码子', 'UGG': '色氨酸',\n",
    "                   'CUU': '亮氨酸', 'CUC': '亮氨酸', 'CUA': '亮氨酸', 'CUG': '亮氨酸',\n",
    "                   'CCU': '脯氨酸', 'CCC': '脯氨酸', 'CCA': '脯氨酸', 'CCG': '脯氨酸',\n",
    "                   'CAU': '组氨酸', 'CAC': '组氨酸', 'CAA': '甘氨酸', 'CAG': '甘氨酸',\n",
    "                   'CGU': '精氨酸', 'CGC': '精氨酸', 'CGA': '精氨酸', 'CGG': '精氨酸',\n",
    "                   'AUU': '异亮氨酸', 'AUC': '异亮氨酸', 'AUA': '异亮氨酸', 'AUG': '甲硫氨酸(起始密码子)',\n",
    "                   'ACU': '苏氨酸', 'ACC': '苏氨酸', 'ACA': '苏氨酸', 'ACG': '苏氨酸',\n",
    "                   'AAU': '天冬酰胺', 'AAC': '天冬酰胺', 'AAA': '赖氨酸', 'AAG': '赖氨酸',\n",
    "                   'AGU': '丝氨酸', 'AGC': '丝氨酸', 'AGA': '精氨酸', 'AGG': '精氨酸',\n",
    "                   'GUU': '缬氨酸', 'GUC': '缬氨酸', 'GUA': '缬氨酸', 'GUG': '缬氨酸(起始密码子)',\n",
    "                   'GCU': '丙氨酸', 'GCC': '丙氨酸', 'GCA': '丙氨酸', 'GCG': '丙氨酸',\n",
    "                   'GAU': '天冬酰胺', 'GAC': '天冬酰胺', 'GAA': '谷氨酸', 'GAG': '谷氨酸',\n",
    "                   'GGU': '甘氨酸', 'GGC': '甘氨酸', 'GGA': '甘氨酸', 'GGG': '甘氨酸'}\n",
    "\n",
    "# 用户输入区域\n",
    "base = input(\"请输入mRNA上的碱基:\")\n",
    "\n",
    "# 获取字符串总长，并未循环次数做准备\n",
    "base_length = len(base) // 3\n",
    "\n",
    "bool_key_start = False\n",
    "cycles_counts = 0\n",
    "start_step = 0\n",
    "step = 0\n",
    "# 获取字符串切片起始数\n",
    "for i in range(base_length):\n",
    "    cycles_counts += 1\n",
    "    \n",
    "    # 以字符串中3个元素为一组进行截取\n",
    "    pre_base = base[(0 + step): (3 + step)]\n",
    "    \n",
    "    compare_base = key_codon_dict[pre_base]\n",
    "    \n",
    "    if compare_base == key_codon_dict[\"AUG\"] :\n",
    "        start_step = step\n",
    "        bool_key_start = True\n",
    "        break\n",
    "    elif compare_base == key_codon_dict[\"GUG\"] :\n",
    "        start_step = step\n",
    "        bool_key_start = True\n",
    "        break\n",
    "    else:\n",
    "        step += 3\n",
    "\n",
    "# 判断mRNA链中是否有起始密码子\n",
    "if bool_key_start == False:\n",
    "    print(\"该氨基酸链可能无法形成\")\n",
    "    quit()\n",
    "\n",
    "bool_key_end = False\n",
    "\n",
    "# 获取字符串切片末尾数\n",
    "end_step = 0\n",
    "for i in range((base_length - cycles_counts)):\n",
    "    \n",
    "    # 以字符串中3个元素为一组进行截取\n",
    "    pre_base = base[(0 + step): (3 + step)]\n",
    "    \n",
    "    \n",
    "    compare_base = key_codon_dict[pre_base]\n",
    "    \n",
    "    if compare_base == key_codon_dict[\"UAA\"] :\n",
    "        end_step = step\n",
    "        bool_key_end = True\n",
    "        break\n",
    "    elif compare_base == key_codon_dict[\"UAG\"] :\n",
    "        end_step = step\n",
    "        break\n",
    "    elif compare_base == key_codon_dict[\"UGA\"] :\n",
    "        end_step = step\n",
    "        bool_key_end = True\n",
    "        break\n",
    "    else:\n",
    "        step += 3\n",
    "        end_step = step\n",
    "        \n",
    "# 判断密码子中是否有密码子        \n",
    "if bool_key_end == False:\n",
    "    print(\"该密码子中不含终止密码子\")\n",
    "\n",
    "\n",
    "# 最终处理\n",
    "final_end_step = end_step + 3\n",
    "final_cycles_counts = (final_end_step - start_step) // 3\n",
    "step_ = 0\n",
    "\n",
    "for i in range(final_cycles_counts):\n",
    "    \n",
    "    pre_base = base[(start_step + step_): ((start_step + 3) + step_)]\n",
    "    step_ += 3\n",
    "    print (key_codon_dict[pre_base], end=\" \")"
   ]
  },
  {
   "cell_type": "code",
   "execution_count": null,
   "metadata": {},
   "outputs": [],
   "source": []
  }
 ],
 "metadata": {
  "kernelspec": {
   "display_name": "Python 3",
   "language": "python",
   "name": "python3"
  },
  "language_info": {
   "codemirror_mode": {
    "name": "ipython",
    "version": 3
   },
   "file_extension": ".py",
   "mimetype": "text/x-python",
   "name": "python",
   "nbconvert_exporter": "python",
   "pygments_lexer": "ipython3",
   "version": "3.8.10"
  },
  "orig_nbformat": 4,
  "vscode": {
   "interpreter": {
    "hash": "31f2aee4e71d21fbe5cf8b01ff0e069b9275f58929596ceb00d14d90e3e16cd6"
   }
  }
 },
 "nbformat": 4,
 "nbformat_minor": 2
}
